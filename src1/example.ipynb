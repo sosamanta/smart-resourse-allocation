{
 "cells": [
  {
   "cell_type": "code",
   "execution_count": 1,
   "id": "179be24b",
   "metadata": {},
   "outputs": [],
   "source": [
    "# from langchain_core.prompts import ChatPromptTemplate\n",
    "# from langchain_core.output_parsers import StrOutputParser\n",
    "# from langchain_ollama import ChatOllama\n",
    "\n",
    "# prompt = ChatPromptTemplate.from_template(\n",
    "#     \"Question: {question}\\n\\nAnswer: Let's think step by step.\"\n",
    "# )\n",
    "\n",
    "# llm = ChatOllama(model=\"llama3.1\")  # or \"llama3.1:8b\"\n",
    "# chain = prompt | llm | StrOutputParser()\n",
    "\n",
    "# print(chain.invoke({\"question\": \"What is LangChain?\"}))\n"
   ]
  },
  {
   "cell_type": "code",
   "execution_count": 2,
   "id": "40d9e1a5",
   "metadata": {},
   "outputs": [],
   "source": [
    "# !pip3 install langchain-core langchain-community langchain-ollama\n",
    "# !pip3 install pdfplumber PyPDF2\n"
   ]
  },
  {
   "cell_type": "code",
   "execution_count": 2,
   "id": "e4cf8d43",
   "metadata": {},
   "outputs": [],
   "source": [
    "#!pip3 install --upgrade langchain-community langgraph\n"
   ]
  },
  {
   "cell_type": "code",
   "execution_count": 4,
   "id": "45274c0d",
   "metadata": {},
   "outputs": [],
   "source": [
    "from llm import LLMWrapper"
   ]
  },
  {
   "cell_type": "code",
   "execution_count": 5,
   "id": "9cdbe0db",
   "metadata": {},
   "outputs": [
    {
     "data": {
      "text/plain": [
       "\"**Resume Analysis**\\n\\nUnfortunately, you didn't provide a resume for me to parse. Please share the resume, and I'll be happy to extract only the technologies and relevant experiences for you!\""
      ]
     },
     "execution_count": 5,
     "metadata": {},
     "output_type": "execute_result"
    }
   ],
   "source": [
    "llm = LLMWrapper()\n",
    "llm.generate_response(\"What is LangChain?\")"
   ]
  },
  {
   "cell_type": "code",
   "execution_count": null,
   "id": "acfe9a0a",
   "metadata": {},
   "outputs": [],
   "source": []
  }
 ],
 "metadata": {
  "kernelspec": {
   "display_name": "Python 3",
   "language": "python",
   "name": "python3"
  },
  "language_info": {
   "codemirror_mode": {
    "name": "ipython",
    "version": 3
   },
   "file_extension": ".py",
   "mimetype": "text/x-python",
   "name": "python",
   "nbconvert_exporter": "python",
   "pygments_lexer": "ipython3",
   "version": "3.13.3"
  }
 },
 "nbformat": 4,
 "nbformat_minor": 5
}
